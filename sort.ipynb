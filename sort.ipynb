{
 "cells": [
  {
   "cell_type": "code",
   "execution_count": 2,
   "metadata": {},
   "outputs": [],
   "source": [
    "import pandas as pd"
   ]
  },
  {
   "cell_type": "code",
   "execution_count": 3,
   "metadata": {},
   "outputs": [
    {
     "data": {
      "text/html": [
       "<div>\n",
       "<style scoped>\n",
       "    .dataframe tbody tr th:only-of-type {\n",
       "        vertical-align: middle;\n",
       "    }\n",
       "\n",
       "    .dataframe tbody tr th {\n",
       "        vertical-align: top;\n",
       "    }\n",
       "\n",
       "    .dataframe thead th {\n",
       "        text-align: right;\n",
       "    }\n",
       "</style>\n",
       "<table border=\"1\" class=\"dataframe\">\n",
       "  <thead>\n",
       "    <tr style=\"text-align: right;\">\n",
       "      <th></th>\n",
       "      <th>Country</th>\n",
       "      <th>Age</th>\n",
       "      <th>Gender</th>\n",
       "      <th>slug</th>\n",
       "      <th>years</th>\n",
       "      <th>date_of_information</th>\n",
       "      <th>ranking</th>\n",
       "      <th>region</th>\n",
       "    </tr>\n",
       "  </thead>\n",
       "  <tbody>\n",
       "    <tr>\n",
       "      <th>0</th>\n",
       "      <td>Afghanistan</td>\n",
       "      <td>75.0</td>\n",
       "      <td>Male</td>\n",
       "      <td>afghanistan</td>\n",
       "      <td>19.9</td>\n",
       "      <td>2023</td>\n",
       "      <td>203</td>\n",
       "      <td>South Asia</td>\n",
       "    </tr>\n",
       "    <tr>\n",
       "      <th>1</th>\n",
       "      <td>Albania</td>\n",
       "      <td>57.0</td>\n",
       "      <td>Male</td>\n",
       "      <td>albania</td>\n",
       "      <td>35.8</td>\n",
       "      <td>2023</td>\n",
       "      <td>90</td>\n",
       "      <td>Europe</td>\n",
       "    </tr>\n",
       "    <tr>\n",
       "      <th>2</th>\n",
       "      <td>Algeria</td>\n",
       "      <td>79.0</td>\n",
       "      <td>Male</td>\n",
       "      <td>algeria</td>\n",
       "      <td>28.9</td>\n",
       "      <td>2023</td>\n",
       "      <td>143</td>\n",
       "      <td>Africa</td>\n",
       "    </tr>\n",
       "    <tr>\n",
       "      <th>3</th>\n",
       "      <td>Andorra</td>\n",
       "      <td>75.0</td>\n",
       "      <td>Male</td>\n",
       "      <td>andorra</td>\n",
       "      <td>48.1</td>\n",
       "      <td>2023</td>\n",
       "      <td>5</td>\n",
       "      <td>Europe</td>\n",
       "    </tr>\n",
       "    <tr>\n",
       "      <th>4</th>\n",
       "      <td>Angola</td>\n",
       "      <td>70.0</td>\n",
       "      <td>Male</td>\n",
       "      <td>angola</td>\n",
       "      <td>16.2</td>\n",
       "      <td>2023</td>\n",
       "      <td>225</td>\n",
       "      <td>Africa</td>\n",
       "    </tr>\n",
       "  </tbody>\n",
       "</table>\n",
       "</div>"
      ],
      "text/plain": [
       "       Country   Age Gender         slug  years  date_of_information  ranking  \\\n",
       "0  Afghanistan  75.0   Male  afghanistan   19.9                 2023      203   \n",
       "1      Albania  57.0   Male      albania   35.8                 2023       90   \n",
       "2      Algeria  79.0   Male      algeria   28.9                 2023      143   \n",
       "3      Andorra  75.0   Male      andorra   48.1                 2023        5   \n",
       "4       Angola  70.0   Male       angola   16.2                 2023      225   \n",
       "\n",
       "       region  \n",
       "0  South Asia  \n",
       "1      Europe  \n",
       "2      Africa  \n",
       "3      Europe  \n",
       "4      Africa  "
      ]
     },
     "execution_count": 3,
     "metadata": {},
     "output_type": "execute_result"
    }
   ],
   "source": [
    "df = pd.read_csv('combined_data.csv')\n",
    "df.head()"
   ]
  },
  {
   "cell_type": "code",
   "execution_count": 4,
   "metadata": {},
   "outputs": [
    {
     "data": {
      "text/plain": [
       "array(['South Asia', 'Europe', 'Africa',\n",
       "       'Central America and the Caribbean', 'South America',\n",
       "       'Middle East', 'Australia and Oceania', 'East and Southeast Asia',\n",
       "       'North America', 'Central Asia'], dtype=object)"
      ]
     },
     "execution_count": 4,
     "metadata": {},
     "output_type": "execute_result"
    }
   ],
   "source": [
    "df['region'].unique()"
   ]
  },
  {
   "cell_type": "code",
   "execution_count": 5,
   "metadata": {},
   "outputs": [],
   "source": [
    "custom_order = ['Europe', 'Africa', 'South America', 'Central America and the Caribbean', 'North America', 'Middle East', 'Central Asia', \"South Asia\", 'East and Southeast Asia', 'Australia and Oceania']"
   ]
  },
  {
   "cell_type": "code",
   "execution_count": 6,
   "metadata": {},
   "outputs": [],
   "source": [
    "df['region'] = pd.Categorical(df['region'], categories=custom_order, ordered=True)\n",
    "\n",
    "# Sort the DataFrame based on the 'region' column\n",
    "df_sorted = df.sort_values(by='region')\n",
    "\n",
    "# Display the sorted DataFrame\n",
    "df_sorted.to_csv('combined_data.csv')"
   ]
  },
  {
   "cell_type": "code",
   "execution_count": 8,
   "metadata": {},
   "outputs": [
    {
     "data": {
      "text/plain": [
       "['Europe', 'Africa', 'South America', 'Central America and the Caribbean', 'North America', 'Middle East', 'Central Asia', 'South Asia', 'East and Southeast Asia', 'Australia and Oceania']\n",
       "Categories (10, object): ['Europe' < 'Africa' < 'South America' < 'Central America and the Caribbean' ... 'Central Asia' < 'South Asia' < 'East and Southeast Asia' < 'Australia and Oceania']"
      ]
     },
     "execution_count": 8,
     "metadata": {},
     "output_type": "execute_result"
    }
   ],
   "source": [
    "df_sorted['region'].unique()"
   ]
  }
 ],
 "metadata": {
  "kernelspec": {
   "display_name": "dsc106",
   "language": "python",
   "name": "python3"
  },
  "language_info": {
   "codemirror_mode": {
    "name": "ipython",
    "version": 3
   },
   "file_extension": ".py",
   "mimetype": "text/x-python",
   "name": "python",
   "nbconvert_exporter": "python",
   "pygments_lexer": "ipython3",
   "version": "3.8.18"
  }
 },
 "nbformat": 4,
 "nbformat_minor": 2
}
